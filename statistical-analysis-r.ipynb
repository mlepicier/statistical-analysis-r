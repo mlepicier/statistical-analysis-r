{
 "cells": [
  {
   "cell_type": "markdown",
   "id": "373fad22-38f7-43b1-9245-19c189cc400e",
   "metadata": {},
   "source": [
    "# Statistical Analysis with R"
   ]
  },
  {
   "cell_type": "markdown",
   "id": "f9684e71-04ae-426d-9b14-754cd7648783",
   "metadata": {},
   "source": [
    "## Simple statistics on simulated samples\n",
    "> Study of the different modes of graphical description in the continuous and discrete cases as well as probability calculations.\n",
    "> ***\n",
    "> ### Continuous probability distribution\n",
    "> The aim here is to simulate samples x of various sizes of $n$ of different distributions to analyze the results of the unbiased estimates of the mean and the variance as well as the distribution of the realizations of the sample."
   ]
  },
  {
   "cell_type": "code",
   "execution_count": 37,
   "id": "4dac2ad2-9169-4f89-b1be-365cc1124a0b",
   "metadata": {},
   "outputs": [],
   "source": [
    "options(repr.plot.width=8, repr.plot.height=4, repr.plot.res = 150)"
   ]
  },
  {
   "cell_type": "markdown",
   "id": "4c7c56ef-c34a-47ca-aaa5-22465a7b920c",
   "metadata": {},
   "source": [
    "> #### $U_{[a,b]}$ distribution with $a = -1$ and $b = 2$\n",
    "> - Distriution parameters."
   ]
  },
  {
   "cell_type": "code",
   "execution_count": 39,
   "id": "881a66ec-661a-4d00-8499-c7be83696940",
   "metadata": {},
   "outputs": [],
   "source": [
    "a <- -1\n",
    "b <- 2\n",
    "m <- (a+b)/2\n",
    "v <- ((b-a)^2)/12"
   ]
  },
  {
   "cell_type": "markdown",
   "id": "56cfd415-45bf-4ef6-8674-145571235609",
   "metadata": {},
   "source": [
    "> - Unbiased estimators."
   ]
  },
  {
   "cell_type": "code",
   "execution_count": 40,
   "id": "2bacd171-8f68-412d-9aed-89d1f941482e",
   "metadata": {},
   "outputs": [],
   "source": [
    "n <- 10000\n",
    "x <- runif(n=n, min=a, max=b)\n",
    "m.est <- mean(x) \n",
    "v.est <- var(x)"
   ]
  },
  {
   "cell_type": "markdown",
   "id": "b1e21cb3-f621-4098-ba33-a3ef912ae0f9",
   "metadata": {},
   "source": [
    "> - Comparing the value of the unbiased estimator with its respective parameter for a sample of size $n$."
   ]
  },
  {
   "cell_type": "code",
   "execution_count": 41,
   "id": "d7b0d05d-7185-4c42-97b8-a2b1853f0932",
   "metadata": {},
   "outputs": [
    {
     "name": "stdout",
     "output_type": "stream",
     "text": [
      "Mean:  0.5  | Unbiased estimator:  0.5039064 \n",
      "SDev:  0.75 | Unbiased estimator:  0.7391811"
     ]
    }
   ],
   "source": [
    "cat(\"Mean: \", m,\" | Unbiased estimator: \", m.est, \"\\nSDev: \", v,\"| Unbiased estimator: \", v.est)"
   ]
  },
  {
   "cell_type": "markdown",
   "id": "331885d0-822b-4755-a125-56f9e6e9784c",
   "metadata": {},
   "source": [
    "> - Plotting the distribution of the sample of size $n$."
   ]
  },
  {
   "cell_type": "code",
   "execution_count": 42,
   "id": "058cddb5-5443-4c7d-b981-637325190f80",
   "metadata": {},
   "outputs": [
    {
     "data": {
      "image/png": "[encoded data removed]",
      "text/plain": [
       "Plot with title \"Simulated uniform distribution\""
      ]
     },
     "metadata": {
      "image/png": {
       "height": 300,
       "width": 600
      }
     },
     "output_type": "display_data"
    }
   ],
   "source": [
    "par(mfrow=c(1,2))\n",
    "hist(x, main=\"Simulated uniform distribution\", xlab=\"Value\", ylab=\"Frequency\")\n",
    "boxplot(x)"
   ]
  },
  {
   "cell_type": "markdown",
   "id": "3bc1d296-2814-4be3-ba2d-e5d680cc51a8",
   "metadata": {},
   "source": [
    "> #### $N_{(m, \\sigma^2)}$ distribution with $m = -2$ and $\\sigma = 1$\n",
    "> - Distribution parameters."
   ]
  },
  {
   "cell_type": "code",
   "execution_count": 43,
   "id": "d1154c57-808d-4eb2-85aa-3bff085a67af",
   "metadata": {},
   "outputs": [],
   "source": [
    "m <- -2\n",
    "v <- 1"
   ]
  },
  {
   "cell_type": "markdown",
   "id": "91c87836-0f9d-413b-a919-b7705b0182f6",
   "metadata": {},
   "source": [
    "> - Unbiased estimators."
   ]
  },
  {
   "cell_type": "code",
   "execution_count": 44,
   "id": "7af862c5-761a-45db-8578-ca2ab715aa15",
   "metadata": {},
   "outputs": [],
   "source": [
    "n <- 10000\n",
    "x <- rnorm(n=n, mean=m, sd=sqrt(v))\n",
    "m.est <- mean(x) \n",
    "v.est <- var(x)"
   ]
  },
  {
   "cell_type": "markdown",
   "id": "289e70b2-65e1-41ed-a59e-7286b8ffc146",
   "metadata": {},
   "source": [
    "> - Comparing the value of the unbiased estimator with its respective parameter for a sample of size $n$."
   ]
  },
  {
   "cell_type": "code",
   "execution_count": 45,
   "id": "0550f029-6326-466b-9985-1f6af5e6be84",
   "metadata": {},
   "outputs": [
    {
     "name": "stdout",
     "output_type": "stream",
     "text": [
      "Mean: -2 | Unbiased estimator: -2.001323 \n",
      "SDev:  1 | Unbiased estimator:  0.9938256"
     ]
    }
   ],
   "source": [
    "cat(\"Mean:\", m,\"| Unbiased estimator:\", m.est, \"\\nSDev: \", v,\"| Unbiased estimator: \", v.est)"
   ]
  },
  {
   "cell_type": "markdown",
   "id": "6fa2bb40-b420-4089-9cf0-b7e6185c442c",
   "metadata": {},
   "source": [
    "> - Plotting the distribution of the sample of size $n$."
   ]
  },
  {
   "cell_type": "code",
   "execution_count": 46,
   "id": "8e48c7cf-d7a0-4b4f-bd6c-1a995a32d14e",
   "metadata": {},
   "outputs": [
    {
     "data": {
      "image/png": "[encoded data removed]",
      "text/plain": [
       "Plot with title \"Simulated normal distribution\""
      ]
     },
     "metadata": {
      "image/png": {
       "height": 300,
       "width": 600
      }
     },
     "output_type": "display_data"
    }
   ],
   "source": [
    "par(mfrow=c(1,2))\n",
    "hist(x, main=\"Simulated normal distribution\", xlab=\"Value\", ylab=\"Frequency\")\n",
    "boxplot(x)"
   ]
  },
  {
   "cell_type": "markdown",
   "id": "83ba0da0-4295-4489-8377-346aa94f60e2",
   "metadata": {},
   "source": [
    "***\n",
    "## Asymptotic behavior of estimators \n",
    "> Descriptive statistics, histograms, frequency distributions of samples of estimators.\n",
    "> ***\n",
    "> ### Simulation and estimation of the standard deviation for a $N(\\mu,\\sigma ^2)$ distribution"
   ]
  },
  {
   "cell_type": "code",
   "execution_count": 102,
   "id": "6f029233-edcd-4254-bc66-b70e16a6e13e",
   "metadata": {},
   "outputs": [],
   "source": [
    "options(repr.plot.width=5, repr.plot.height=5, repr.plot.res = 180)"
   ]
  },
  {
   "cell_type": "markdown",
   "id": "3ec77a10-302d-4e0d-9b01-2882f05cda3e",
   "metadata": {},
   "source": [
    "> - Parameters."
   ]
  },
  {
   "cell_type": "code",
   "execution_count": 49,
   "id": "bc5fcf72-ef88-4b7a-a39c-ba5d6c586163",
   "metadata": {},
   "outputs": [],
   "source": [
    "ds1 <- NULL\n",
    "ds2 <- NULL\n",
    "ds3 <- NULL\n",
    "n <- 100\n",
    "K <- 100\n",
    "m <- 2\n",
    "sigma <- 0.1"
   ]
  },
  {
   "cell_type": "markdown",
   "id": "deb871cd-f509-461b-89bb-18ccc1554e0e",
   "metadata": {},
   "source": [
    "> - Computation of three different estimators of $\\sigma$."
   ]
  },
  {
   "cell_type": "code",
   "execution_count": 50,
   "id": "caa449b6-c22c-4f23-9b0b-841b716148d4",
   "metadata": {},
   "outputs": [],
   "source": [
    "for (k in 1:K) { \n",
    "    x <- rnorm(n=n,mean=m,sd=sigma)\n",
    "    ds1 <- c(ds1, sum((x-mean(x))^2)/n)\n",
    "    ds2 <- c(ds2, sum((x-mean(x))^2)/(n-1))\n",
    "    ds3 <- c(ds3, sum((x-m)^2)/n)\n",
    "}"
   ]
  },
  {
   "cell_type": "markdown",
   "id": "f0fbd381-e2ba-4a77-aac9-7efc83470b72",
   "metadata": {},
   "source": [
    "> - Plotting the different estimation samples compared to $\\sigma$ (horizontal line)."
   ]
  },
  {
   "cell_type": "code",
   "execution_count": 114,
   "id": "14ec84a1-d65a-4e75-9b5a-e4cef9a409d3",
   "metadata": {},
   "outputs": [
    {
     "data": {
      "image/png": "[encoded data removed]",
      "text/plain": [
       "Plot with title \"100  samples of size n =  100  -  Sigma =  0.1\""
      ]
     },
     "metadata": {
      "image/png": {
       "height": 450,
       "width": 450
      }
     },
     "output_type": "display_data"
    }
   ],
   "source": [
    "boxplot(c(ds1,ds2,ds3)~rep(c(\"ds1\",\"ds2\",\"ds3\"),each=K),\n",
    "        ylim=c(min(c(ds1,ds2,ds3))*0.8,max(c(ds1,ds2,ds3))*1.15),\n",
    "        range=1.5,\n",
    "        xlab=\"Sigma estimators\",\n",
    "        ylab=\"\")\n",
    "\n",
    "abline(h=sigma^2,col=\"red\",lwd=2)\n",
    "\n",
    "points(1:3,\n",
    "       c(mean(ds1),mean(ds2),mean(ds3)),\n",
    "       pch=20,\n",
    "       col=1:3,\n",
    "       cex=2) \n",
    "\n",
    "title(paste(K, \" samples of size n = \",n,\" -  Sigma = \",sigma))\n",
    "\n",
    "legend(0.5,\n",
    "       max(c(ds1,ds2,ds3)*1.15),\n",
    "       legend=c(paste(\"Mean ds1 = \",round(mean(ds1),digits=8)),\n",
    "                paste(\"Mean ds2 = \",round(mean(ds2),digits=8)),\n",
    "                paste(\"Mean ds3 = \",round(mean(ds3),digits=8))),\n",
    "                pch=20,col=1:3,pt.cex=1,cex=0.9,bty=\"n\")"
   ]
  },
  {
   "cell_type": "markdown",
   "id": "c2e7de9d-b5b6-479e-949c-d396fb165180",
   "metadata": {},
   "source": [
    "> ***\n",
    "> ### Simulation and estimation for a $P(\\lambda)$ distribution"
   ]
  },
  {
   "cell_type": "code",
   "execution_count": 124,
   "id": "863aa9a2-dd54-4acb-b42e-c0b7d5dfe03d",
   "metadata": {},
   "outputs": [],
   "source": [
    "options(repr.plot.width=12, repr.plot.height=3, repr.plot.res = 180)"
   ]
  },
  {
   "cell_type": "markdown",
   "id": "d3eda257-1ff4-4ef9-843a-0d7cb8c734d0",
   "metadata": {},
   "source": [
    "> - Parameters."
   ]
  },
  {
   "cell_type": "code",
   "execution_count": 116,
   "id": "b845e705-70af-40cc-b974-1967389345ab",
   "metadata": {},
   "outputs": [],
   "source": [
    "K <- 1000\n",
    "N <- c(5,10,25,50,100,500,1000)\n",
    "m <- NULL \n",
    "sigma2 <- NULL \n",
    "lambda <- 1"
   ]
  },
  {
   "cell_type": "markdown",
   "id": "c6c4a9ba-9b7c-47fc-8ad2-a4d301cda39b",
   "metadata": {},
   "source": [
    "> - Computation of the estimators for different samples of size $n$."
   ]
  },
  {
   "cell_type": "code",
   "execution_count": 117,
   "id": "fcb3d630-1411-4e3a-87f6-5d12efd34477",
   "metadata": {},
   "outputs": [],
   "source": [
    "for (n in N) {\n",
    "    for (k in 1:K) { x <-rpois(n=n,lambda=1); m <- c(m,mean(x)); sigma2 <- c(sigma2,var(x)) }\n",
    "}"
   ]
  },
  {
   "cell_type": "markdown",
   "id": "afae6121-6a98-41f6-8023-b04d164d5866",
   "metadata": {},
   "source": [
    "> - Plotting the estimation of $m$ and $\\sigma$ for different sample sizes."
   ]
  },
  {
   "cell_type": "code",
   "execution_count": 132,
   "id": "643502ee-1779-43a0-8ddc-e6224a3a3f53",
   "metadata": {},
   "outputs": [
    {
     "data": {
      "image/png": "[encoded data removed]",
      "text/plain": [
       "plot without title"
      ]
     },
     "metadata": {
      "image/png": {
       "height": 270,
       "width": 1080
      }
     },
     "output_type": "display_data"
    }
   ],
   "source": [
    "y.min <- min(c(m,sigma2))\n",
    "y.max <- max(c(m,sigma2))\n",
    "\n",
    "par(mfrow=c(1,2))\n",
    "\n",
    "boxplot(m~rep(N,each=K),\n",
    "        ylim=c(y.min,y.max),\n",
    "        xlab=expression(paste(hat(m))),\n",
    "        ylab='n',\n",
    "        horizontal=TRUE,\n",
    "        las=1)\n",
    "abline(v=lambda,col=\"red\",lwd=2)\n",
    "\n",
    "boxplot(sigma2~rep(N,each=K),\n",
    "        ylim=c(y.min,y.max),\n",
    "        xlab=expression(paste(hat(sigma)^2)),\n",
    "        ylab='n',\n",
    "        horizontal=TRUE,\n",
    "        las=1)\n",
    "abline(v=lambda,col=\"red\",lwd=2)\n",
    "\n",
    "mtext(paste(\"Poisson distribution - lambda = \", lambda, \"| K = \",K, \" Mean and variance estimation for each n\"), side = 3, line = -2.5, outer = TRUE)"
   ]
  },
  {
   "cell_type": "markdown",
   "id": "41cde430-f783-458d-8af5-da1de53f97ef",
   "metadata": {
    "tags": []
   },
   "source": [
    "***\n",
    "## Confidence Interval\n",
    "> ### $B(n,p)$ distribution\n",
    "> - Computation of confidence intervals on $p$ under **Normal** approximation."
   ]
  },
  {
   "cell_type": "code",
   "execution_count": 134,
   "id": "69fb224a-03cc-4d62-9134-7d1646be1d63",
   "metadata": {},
   "outputs": [],
   "source": [
    "IC.Bino <- function(p,n,p.est,niv.conf) {\n",
    "    u <- qnorm(1 - (1-niv.conf)/2, mean = 0, sd = 1)\n",
    "    return(abs(p.est-p) - u*sqrt((p*(1-p))/n))\n",
    "}\n",
    "\n",
    "IC.Bino2 <- function(p,n,p.est,niv.conf) {\n",
    "    u <- qnorm(1 - (1-niv.conf)/2, mean = 0, sd = 1)\n",
    "    return(abs(p.est-p) - 0.5/n - u*sqrt((p*(1-p))/n))\n",
    "}"
   ]
  },
  {
   "cell_type": "markdown",
   "id": "b5520f9e-f794-4634-9ff1-e6ab2e635b91",
   "metadata": {},
   "source": [
    "> - Analysis of different confidence **interval calculations**.\n",
    "> - Confidence interval parameters."
   ]
  },
  {
   "cell_type": "code",
   "execution_count": 135,
   "id": "619be3a4-ac9c-4244-9730-2604ec459d5b",
   "metadata": {},
   "outputs": [],
   "source": [
    "accuracy.res <- 5\n",
    "n <- 20\n",
    "p.conf <- 0.95\n",
    "p <- 0.2"
   ]
  },
  {
   "cell_type": "markdown",
   "id": "f94b58bf-040f-4c3c-bc8c-f6b599d71985",
   "metadata": {},
   "source": [
    "> - Computation of the $p$ estimator."
   ]
  },
  {
   "cell_type": "code",
   "execution_count": 136,
   "id": "b3856fbd-4e11-4352-9141-ecc30c66f1dc",
   "metadata": {},
   "outputs": [],
   "source": [
    "x0 <- rbinom(1,n,p)\n",
    "p.hat <- x0/n "
   ]
  },
  {
   "cell_type": "markdown",
   "id": "0df6656e-f818-44f5-be9b-6b482037ab8f",
   "metadata": {},
   "source": [
    "> - Computation of assymptotic interval bounds."
   ]
  },
  {
   "cell_type": "code",
   "execution_count": 137,
   "id": "5088fdfa-c2ff-4e3a-ba84-b29bd35e291d",
   "metadata": {},
   "outputs": [],
   "source": [
    "p.min.asympt <- uniroot(IC.Bino,n=n,p.est=p.hat, niv.conf=p.conf,interval=c(0,p.hat))$root\n",
    "p.max.asympt <- uniroot(IC.Bino,n=n,p.est=p.hat, niv.conf=p.conf,interval=c(p.hat,1))$root"
   ]
  },
  {
   "cell_type": "markdown",
   "id": "382a7242-069a-4532-ba91-186c8ad8ad1f",
   "metadata": {},
   "source": [
    "> - Computation of assymptotic interval bounds with continuity correction."
   ]
  },
  {
   "cell_type": "code",
   "execution_count": 138,
   "id": "cac10194-24e5-476a-a1e6-ee0b2c8c150f",
   "metadata": {},
   "outputs": [],
   "source": [
    "p.min.asympt.cont.corr <- uniroot(IC.Bino2,n=n,p.est=p.hat, niv.conf=p.conf,interval=c(0,p.hat))$root\n",
    "p.max.asympt.cont.corr <- uniroot(IC.Bino2,n=n,p.est=p.hat, niv.conf=p.conf,interval=c(p.hat,1))$root"
   ]
  },
  {
   "cell_type": "markdown",
   "id": "00915862-376a-4e6e-b8f5-8bb4f47175ed",
   "metadata": {},
   "source": [
    "> - Computation of the quantil  $u_{1-\\alpha/2}$."
   ]
  },
  {
   "cell_type": "code",
   "execution_count": 139,
   "id": "3bb98aae-f240-448b-bc9d-5b28bb03e992",
   "metadata": {},
   "outputs": [],
   "source": [
    "u <- qnorm(1 - (1-p.conf)/2)"
   ]
  },
  {
   "cell_type": "markdown",
   "id": "b033264a-4090-45ab-8578-7c59e4b06685",
   "metadata": {},
   "source": [
    "> - Computation of the Wald interval bounds by proportion approximation."
   ]
  },
  {
   "cell_type": "code",
   "execution_count": 140,
   "id": "ab2837a9-564f-4c24-9a26-da77797e66aa",
   "metadata": {},
   "outputs": [],
   "source": [
    "p.min.approx <- p.hat - u*sqrt(p.hat*(1-p.hat)/n) \n",
    "p.max.approx <- p.hat + u*sqrt(p.hat*(1-p.hat)/n)"
   ]
  },
  {
   "cell_type": "markdown",
   "id": "0721b346-2f85-469e-9e1f-dff972678171",
   "metadata": {},
   "source": [
    "> - Printing the different intervals for comparison."
   ]
  },
  {
   "cell_type": "code",
   "execution_count": 163,
   "id": "f0d54102-2ba0-4c1a-ad55-df461df43469",
   "metadata": {},
   "outputs": [
    {
     "name": "stdout",
     "output_type": "stream",
     "text": [
      "Assymptotic interval formula without continuity correction at level 0.95 :     [ 0.11184 0.4687 ]\n",
      "Assymptotic interval formula with continuity correction at level 0.95 :        [ 0.09592 0.49412 ]\n",
      "Interval from function binom.test without normal approximation at level 0.95 : [ 0.08657 0.49105 ]\n",
      "Interval from function prop.test at level 0.95 :\t\t\t       [ 0.11186 0.4687 ]\n",
      "Interval from function prop.test with continuity correction at level 0.95 :    [ 0.09593 0.49412 ]\n",
      "Wald interval proportion approximation at level 0.95 :\t\t\t       [ 0.06023 0.43977 ]"
     ]
    }
   ],
   "source": [
    "cat(\"Assymptotic interval formula without continuity correction at level\", p.conf,\":     [\",round(c(p.min.asympt,p.max.asympt),digits=accuracy.res),\"]\")\n",
    "cat(\"\\nAssymptotic interval formula with continuity correction at level\", p.conf,\":        [\",round(c(p.min.asympt.cont.corr,p.max.asympt.cont.corr),digits=accuracy.res),\"]\")\n",
    "cat(\"\\nInterval from function binom.test without normal approximation at level\", p.conf,\": [\",round(binom.test(x0,n,conf.level=p.conf)$conf,digits=accuracy.res),\"]\")\n",
    "cat(\"\\nInterval from function prop.test at level\", p.conf,\":\\t\\t\\t       [\",round(prop.test(x0,n,conf.level=p.conf,correct=FALSE)$conf,digits=accuracy.res),\"]\")\n",
    "cat(\"\\nInterval from function prop.test with continuity correction at level\", p.conf,\":    [\",round(prop.test(x0,n,conf.level=p.conf,correct=TRUE)$conf,digits=accuracy.res),\"]\")\n",
    "cat(\"\\nWald interval proportion approximation at level\", p.conf,\":\\t\\t\\t       [\",round(c(p.min.approx,p.max.approx),digits=accuracy.res),\"]\")"
   ]
  },
  {
   "cell_type": "markdown",
   "id": "97f29cff-3616-47b0-9012-b572e2f65eeb",
   "metadata": {},
   "source": [
    "> - Graphical representation of intervals computed using the **prop.test()** function under gaussian approximation."
   ]
  },
  {
   "cell_type": "code",
   "execution_count": 185,
   "id": "c542fb7d-4a8e-428a-8ad2-b80d701409e6",
   "metadata": {},
   "outputs": [],
   "source": [
    "options(repr.plot.width=8, repr.plot.height=5, repr.plot.res = 150)"
   ]
  },
  {
   "cell_type": "code",
   "execution_count": 186,
   "id": "ebb7df1e-9e93-4063-98d4-41a75dbbca65",
   "metadata": {},
   "outputs": [
    {
     "data": {
      "image/png": "[encoded data removed]",
      "text/plain": [
       "Plot with title \"Confidence level:  95 %\""
      ]
     },
     "metadata": {
      "image/png": {
       "height": 375,
       "width": 600
      }
     },
     "output_type": "display_data"
    }
   ],
   "source": [
    "K <- 100\n",
    "n <- 10\n",
    "X <- rbinom(K,n,p)\n",
    "\n",
    "bounds <- NULL\n",
    "for (k in 1:K) { bounds <- rbind(bounds,prop.test(X[k],n,conf.level=p.conf)$conf) }\n",
    "\n",
    "ymin <- min(bounds)\n",
    "ymax <- max(bounds)\n",
    "\n",
    "plot(1:K,bounds[,1],pch=19,col=\"blue\",ylim=c(ymin,ymax),xlab=\"Sample\",ylab=\"Bounds\")\n",
    "points(1:K,bounds[,2],pch=19,col=\"red\")\n",
    "segments(1:K,bounds[,1],1:K,bounds[,2])\n",
    "title(paste(\"Confidence level: \",100*p.conf,\"%\"))\n",
    "abline(h=p,lwd=2)"
   ]
  },
  {
   "cell_type": "markdown",
   "id": "ff6a5580-b59c-4805-a985-2afd808c7878",
   "metadata": {},
   "source": [
    "> - Analysis of the sample size needed for diffrent accuracy measured $(p - \\hat p)$ of different confidence intervals on $p$\n",
    "> - Parameters."
   ]
  },
  {
   "cell_type": "code",
   "execution_count": null,
   "id": "b4069498-df48-43db-a4f7-c58976f3945f",
   "metadata": {},
   "outputs": [],
   "source": [
    "p<-seq(0.01,0.5,by=0.01)\n",
    "p.conf<-0.95\n",
    "accuracy.inter1<-0.01\n",
    "accuracy.inter2<-0.02\n",
    "accuracy.inter3<-0.03\n",
    "accuracy.inter4<-0.04\n",
    "p.conf.bil<-1-(1-p.conf)/2\n",
    "u<-qnorm(p.conf.bil)\n",
    "N1<-NULL                \n",
    "N2<-NULL\n",
    "N3<-NULL\n",
    "N4<-NULL"
   ]
  },
  {
   "cell_type": "markdown",
   "id": "f3754efb-6cef-421b-8d22-086c9cd360e7",
   "metadata": {},
   "source": [
    "> - Computation of the required sample size $n$ for each probability for each required accuracy."
   ]
  },
  {
   "cell_type": "code",
   "execution_count": null,
   "id": "ba53c527-6073-449b-840f-a2ac21323969",
   "metadata": {},
   "outputs": [],
   "source": [
    "for (k in 1:length(p)) {\n",
    "    N1<-c(N1,u^2*p[k]*(1-p[k])/(accuracy.inter1^2))\n",
    "    N2<-c(N2,u^2*p[k]*(1-p[k])/(accuracy.inter2^2))\n",
    "    N3<-c(N3,u^2*p[k]*(1-p[k])/(accuracy.inter3^2))\n",
    "    N4<-c(N4,u^2*p[k]*(1-p[k])/(accuracy.inter4^2))\n",
    "}"
   ]
  },
  {
   "cell_type": "markdown",
   "id": "6368bcc0-a4fe-445d-b4cb-67f2a049c86a",
   "metadata": {},
   "source": [
    "> - Plotting the difference."
   ]
  },
  {
   "cell_type": "code",
   "execution_count": 217,
   "id": "dcd711f0-c6ea-435d-b305-173353750fd6",
   "metadata": {},
   "outputs": [
    {
     "data": {
      "image/png": "[encoded data removed]",
      "text/plain": [
       "Plot with title \"Confidence level:  95 %\""
      ]
     },
     "metadata": {
      "image/png": {
       "height": 375,
       "width": 600
      }
     },
     "output_type": "display_data"
    }
   ],
   "source": [
    "col<-c(\"black\",\"orange\",\"green\",\"red\")\n",
    "plot(p,floor(N1),type=\"l\",lwd=2,xlab=\"P\",ylab=\"N\",ylim=c(0,max(N1)))\n",
    "lines(p,floor(N2),type=\"l\",lwd=2,col=col[2])\n",
    "lines(p,floor(N3),type=\"l\",lwd=2,col=col[3])\n",
    "lines(p,floor(N4),type=\"l\",lwd=2,col=col[4])\n",
    "title(paste(\"Confidence level: \",100*p.conf,\"%\"))\n",
    "legend(min(p),max(N1),cex=0.8, lty=1,lwd=2,legend=paste(\"Accuracy = \",c(0.01,0.02,0.03,0.05)),col=col)"
   ]
  },
  {
   "cell_type": "markdown",
   "id": "b74bf98f-4b2d-462a-8b95-bdeb21dcc857",
   "metadata": {},
   "source": [
    "> ***\n",
    "> ### Gaussian distribution\n",
    "> - Parameters."
   ]
  },
  {
   "cell_type": "code",
   "execution_count": 218,
   "id": "6fd76915-fa5b-4122-af1d-548c621b244b",
   "metadata": {},
   "outputs": [],
   "source": [
    "K <- 100\n",
    "n <- 10\n",
    "digits <- 5\n",
    "m <- 2\n",
    "sigma2 <- 1.5\n",
    "sigma <- sqrt(sigma2)\n",
    "p.conf <- 0.9\n",
    "p.conf.bil <- 1-(1-p.conf)/2"
   ]
  },
  {
   "cell_type": "markdown",
   "id": "9f593042-33d6-4edc-9966-03e10422a737",
   "metadata": {},
   "source": [
    "> - **Exact** interval computation."
   ]
  },
  {
   "cell_type": "code",
   "execution_count": 219,
   "id": "159374b1-2766-4c45-9570-399c36b3e95d",
   "metadata": {},
   "outputs": [],
   "source": [
    "x <- rnorm(n=n,mean=m,sd=sigma)\n",
    "l.inf.m <- mean(x) + qt(1 - p.conf.bil,df=n-1) * sqrt(var(x)/n)\n",
    "l.sup.m <- mean(x) + qt(p.conf.bil,df=n-1) * sqrt(var(x)/n)"
   ]
  },
  {
   "cell_type": "markdown",
   "id": "a3e7000d-6498-4b72-9291-518c2733048f",
   "metadata": {},
   "source": [
    "> - **Bootstrap** interval computation."
   ]
  },
  {
   "cell_type": "code",
   "execution_count": 220,
   "id": "f8d76837-d920-426b-9cb5-d01287da6aa7",
   "metadata": {},
   "outputs": [],
   "source": [
    "bootstrap <- NULL\n",
    "for (k in 1:K) { bootstrap <- rbind(bootstrap,sample(x,n,replace=TRUE)) }\n",
    "L.quantiles <- quantile(apply(bootstrap,MARGIN=1,FUN=mean),probs=c((1-p.conf)/2 , 1-(1-p.conf)/2))"
   ]
  },
  {
   "cell_type": "code",
   "execution_count": 222,
   "id": "af3a4ada-95dd-41f1-a516-23f259c9c9d9",
   "metadata": {},
   "outputs": [
    {
     "name": "stdout",
     "output_type": "stream",
     "text": [
      "For m =  2 at confidence level: 0.9 and n =  10 :\n",
      "\n",
      "Exact interval on m :       0.77798 2.25646 \n",
      "Bootstraped interval on m : 0.93746 2.13294"
     ]
    }
   ],
   "source": [
    "cat(\"For m = \",m,\"at confidence level:\", p.conf,\"and n = \", n, \":\\n\\nExact interval on m :      \",round(c(l.inf.m, l.sup.m),digits=digits),\"\\nBootstraped interval on m :\",round(L.quantiles,digits=digits))"
   ]
  },
  {
   "cell_type": "markdown",
   "id": "95789847-b50d-4db0-bb9f-e28577baace5",
   "metadata": {},
   "source": [
    "***\n",
    "## Hypothesis Testing\n",
    "> The aim here is to use graphical representation oh hypothesis testing to understand the effect implied by variations in values of *n* and $\\alpha$.\n",
    "> - Parameters."
   ]
  },
  {
   "cell_type": "code",
   "execution_count": 242,
   "id": "1fb95910-8f7d-4e99-af75-02634f2a2fab",
   "metadata": {},
   "outputs": [],
   "source": [
    "sigma <- 7\n",
    "m0 <- 80\n",
    "m1 <- 78"
   ]
  },
  {
   "cell_type": "markdown",
   "id": "54173348-a49e-41df-863e-fec560f951ad",
   "metadata": {},
   "source": [
    "> - Function coloring both errors of the hypothesis testing depending on $\\alpha$ and $n$."
   ]
  },
  {
   "cell_type": "code",
   "execution_count": 243,
   "id": "105a43e1-b629-4d11-8bc6-49807719f83d",
   "metadata": {},
   "outputs": [],
   "source": [
    "graphical.errors <- function(alpha, n){\n",
    "\n",
    "#Computation\n",
    "threshold <- m0+(sigma/sqrt(n))*qnorm(alpha, mean = 0, sd = 1)\n",
    "beta <- 1-pnorm((sqrt(n)/sigma)*(threshold-m1), mean = 0, sd = 1)\n",
    "\n",
    "#Plot Lines\n",
    "x.H0 <- seq(m0-3.5*sigma/sqrt(n), m0+3.5*sigma/sqrt(n), length=500)\n",
    "x.H1 <- seq(m1-3.5*sigma/sqrt(n), m1+3.5*sigma/sqrt(n), length=500)\n",
    "x.H0.H1 <- c(x.H0,x.H1)\n",
    "plot(x.H0, dnorm(x.H0,m0,sigma/sqrt(n)), type = \"l\", main = \"\", xlim=c(min(x.H0.H1),max(x.H0.H1)) , sub = \"\", xlab = \"\", ylab = \"\")\n",
    "lines(x.H1, dnorm(x.H1,m1,sigma/sqrt(n)), type = \"l\" , xlab = \"\", ylab = \"\")\n",
    "\n",
    "#Separate outcomes\n",
    "abline(h=0)\n",
    "abline(v=threshold,lwd=2)\n",
    "\n",
    "#Color Alpha\n",
    "x.alpha <- seq(min(x.H0),threshold,length=500)\n",
    "y.alpha <- c(rep(0,length(x.alpha)),rev(dnorm(x.alpha,m0,sigma/sqrt(n))))\n",
    "x.alpha <- c(x.alpha,rev(x.alpha))\n",
    "polygon(x.alpha, y.alpha, col = \"red\")\n",
    "\n",
    "#Color Beta\n",
    "x.beta <- seq(threshold,max(x.H1),length=500)\n",
    "y.beta <- c(rep(0,length(x.beta)),rev(dnorm(x.beta,m1,sigma/sqrt(n))))\n",
    "x.beta <- c(x.beta,rev(x.beta))\n",
    "polygon(x.beta, y.beta, col = \"yellow\")\n",
    "\n",
    "#Plot Titles\n",
    "mtext(\"Alpha : Red  /  Beta : Yellow\", side = 3, line = -1.8, outer = TRUE)\n",
    "title(paste(\"\\nn =\",n,\" Alpha =\",alpha))\n",
    "}"
   ]
  },
  {
   "cell_type": "markdown",
   "id": "a05a99b9-5492-49c4-a6c0-e41ab584007e",
   "metadata": {},
   "source": [
    "> - Plotting the result by changing respectively values of $\\alpha$ and $n$."
   ]
  },
  {
   "cell_type": "code",
   "execution_count": 244,
   "id": "750bfc22-058e-46e9-b5a4-21554536e900",
   "metadata": {},
   "outputs": [],
   "source": [
    "options(repr.plot.width=10, repr.plot.height=6, repr.plot.res = 200)"
   ]
  },
  {
   "cell_type": "code",
   "execution_count": 245,
   "id": "7f9efb69-30f3-4f0a-ae91-8dc6443dba23",
   "metadata": {},
   "outputs": [
    {
     "data": {
      "image/png": "[encoded data removed]",
      "text/plain": [
       "Plot with title \"\n",
       "n = 100  Alpha = 0.1\""
      ]
     },
     "metadata": {
      "image/png": {
       "height": 600,
       "width": 1000
      }
     },
     "output_type": "display_data"
    }
   ],
   "source": [
    "par(mfrow=c(2,3))\n",
    "\n",
    "seq.n <- c(10, 100, 250)\n",
    "seq.alpha <- c(0.05, 0.075, 0.1)\n",
    "for(n in seq.n) {graphical.errors(0.05, n)}\n",
    "for(alpha in seq.alpha) {graphical.errors(alpha, 100)}"
   ]
  },
  {
   "cell_type": "markdown",
   "id": "e3e8fb4f-834c-4478-ba3c-c94fdff16853",
   "metadata": {},
   "source": [
    "> - Set parameters."
   ]
  },
  {
   "cell_type": "code",
   "execution_count": 246,
   "id": "743a60fa-9f06-413a-955e-81bdde49af8e",
   "metadata": {},
   "outputs": [],
   "source": [
    "K <- 500\n",
    "n <- 100\n",
    "alpha <- 0.05"
   ]
  },
  {
   "cell_type": "markdown",
   "id": "dee5810d-2ef5-42b1-8710-0b2e1e649554",
   "metadata": {},
   "source": [
    "> - Compute alternate hypothesis acceptance threshold."
   ]
  },
  {
   "cell_type": "code",
   "execution_count": 247,
   "id": "c22ad8c8-05ff-438c-b2c7-b64419db1e0b",
   "metadata": {},
   "outputs": [],
   "source": [
    "threshold <- m0+(sigma/sqrt(n))*qnorm(alpha, mean = 0, sd = 1)"
   ]
  },
  {
   "cell_type": "markdown",
   "id": "8086b658-240b-43f8-b68c-c5b6bafa795d",
   "metadata": {},
   "source": [
    "> - ***freq.d1*** represents the frequency of the samples of size n for which the estimation of the mean allowed us to accept H1."
   ]
  },
  {
   "cell_type": "code",
   "execution_count": 248,
   "id": "b5c6edee-8b86-460c-8e18-091cc70aa167",
   "metadata": {},
   "outputs": [
    {
     "data": {
      "text/html": [
       "0.064"
      ],
      "text/latex": [
       "0.064"
      ],
      "text/markdown": [
       "0.064"
      ],
      "text/plain": [
       "[1] 0.064"
      ]
     },
     "metadata": {},
     "output_type": "display_data"
    }
   ],
   "source": [
    "freq.d1<-FALSE\n",
    "for(k in 1:K) { freq.d1 <- freq.d1 + (mean(rnorm(n,m0,sigma)) < threshold) }\n",
    "freq.d1/K"
   ]
  },
  {
   "cell_type": "markdown",
   "id": "21dcc6ea-bee0-4eaa-9c78-9c14b39f92fa",
   "metadata": {},
   "source": [
    "> - Function plotting the curve of power $(1-\\beta)$ for samples of different size $n$ for a given $\\alpha$."
   ]
  },
  {
   "cell_type": "code",
   "execution_count": 257,
   "id": "9c59c4bc-790c-4bd3-af1f-a015559aee49",
   "metadata": {},
   "outputs": [],
   "source": [
    "plot.alpha <- function(alpha, col){\n",
    "\n",
    "#First sample size\n",
    "n=10\n",
    "\n",
    "#Computation\n",
    "m.H1 <- seq(m0-2*sigma,m0,length=500)\n",
    "threshold <- m0 - qnorm(1-alpha)*sigma/sqrt(n)\n",
    "puissance <-pnorm((sqrt(n)/sigma)*(threshold-m.H1), mean = 0, sd = 1)\n",
    "\n",
    "#Plots\n",
    "plot(m.H1,\n",
    "     puissance,\n",
    "     type=\"l\",\n",
    "     main=paste(\"alpha = \", alpha),\n",
    "     xlim=c(min(m.H1),max(m.H1)+1),\n",
    "     ylim=c(min(puissance),1),\n",
    "     sub =\"\", \n",
    "     xlab=\"H1\", \n",
    "     ylab=expression(1-beta), \n",
    "     lwd =2, \n",
    "     col =col[1])\n",
    "\n",
    "i <- 1\n",
    "for(n in c(25,50,100,150)) {\n",
    "    i <- i + 1\n",
    "    threshold <- m0 - qnorm(1-alpha)*sigma/sqrt(n)\n",
    "    puissance <- pnorm(threshold,m.H1,sigma/sqrt(n))\n",
    "    lines(m.H1, puissance, type = \"l\", lwd = 2, col=col[i])\n",
    "    legend(min(m.H1),\n",
    "           0.9,\n",
    "           cex=1,\n",
    "           lty=1,\n",
    "           lwd=2,\n",
    "           bty='n',\n",
    "           legend=paste(\"n = \",\n",
    "                        c(10,25,50,100,150)),\n",
    "           col=col)\n",
    "    }\n",
    "}"
   ]
  },
  {
   "cell_type": "markdown",
   "id": "083ee018-2aa8-4290-b63f-18cfc23f9f84",
   "metadata": {},
   "source": [
    "> - Plotting the power curves for different values of $\\alpha$."
   ]
  },
  {
   "cell_type": "code",
   "execution_count": 265,
   "id": "febc863e-3f16-422d-9cae-3ff054fea929",
   "metadata": {},
   "outputs": [],
   "source": [
    "options(repr.plot.width=12, repr.plot.height=8, repr.plot.res = 180)"
   ]
  },
  {
   "cell_type": "code",
   "execution_count": 266,
   "id": "b07d7fb3-8209-44e9-b9d3-7c3dbce1a627",
   "metadata": {},
   "outputs": [
    {
     "data": {
      "image/png": "[encoded data removed]",
      "text/plain": [
       "Plot with title \"alpha =  0.5\""
      ]
     },
     "metadata": {
      "image/png": {
       "height": 720,
       "width": 1080
      }
     },
     "output_type": "display_data"
    }
   ],
   "source": [
    "par(mfrow=c(2,2))\n",
    "\n",
    "col <- c(\"blue\",\"green\",\"orange\",\"yellow\",\"red\")\n",
    "seq.alpha <- c(0.01, 0.05, 0.1, 0.5)\n",
    "for(alpha in seq.alpha) {plot.alpha(alpha, col)}"
   ]
  },
  {
   "cell_type": "markdown",
   "id": "e6171ee6-1ad5-4513-908a-ee47206fcfe8",
   "metadata": {},
   "source": [
    "***"
   ]
  }
 ],
 "metadata": {
  "kernelspec": {
   "display_name": "R",
   "language": "R",
   "name": "ir"
  },
  "language_info": {
   "codemirror_mode": "r",
   "file_extension": ".r",
   "mimetype": "text/x-r-source",
   "name": "R",
   "pygments_lexer": "r",
   "version": "4.1.2"
  }
 },
 "nbformat": 4,
 "nbformat_minor": 5
}
